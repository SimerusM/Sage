{
 "cells": [
  {
   "cell_type": "code",
   "execution_count": 3,
   "metadata": {},
   "outputs": [],
   "source": [
    "import os\n",
    "import pandas as pd"
   ]
  },
  {
   "cell_type": "code",
   "execution_count": 9,
   "metadata": {},
   "outputs": [],
   "source": [
    "economy = pd.read_csv('./economy/national-gdp-wb.csv')\n",
    "economy = economy.merge(pd.read_csv('./economy/gdp-per-capita-worldbank.csv'), 'inner', on=['Entity', 'Year', 'Code']).drop('Code', axis=1)\n",
    "economy.to_csv('economy.csv', index=False)"
   ]
  },
  {
   "cell_type": "code",
   "execution_count": 10,
   "metadata": {},
   "outputs": [],
   "source": [
    "emissions = pd.read_csv('./emissions/annual-co2-cement.csv')\n",
    "for file in os.listdir('./emissions'):\n",
    "    emissions = emissions.merge(pd.read_csv('./emissions/' + file), 'inner', on=['Entity', 'Year', 'Code'])\n",
    "emissions = emissions.drop('Code', axis=1)\n",
    "emissions.to_csv('emissions.csv', index=False)"
   ]
  }
 ],
 "metadata": {
  "kernelspec": {
   "display_name": "climax",
   "language": "python",
   "name": "python3"
  },
  "language_info": {
   "codemirror_mode": {
    "name": "ipython",
    "version": 3
   },
   "file_extension": ".py",
   "mimetype": "text/x-python",
   "name": "python",
   "nbconvert_exporter": "python",
   "pygments_lexer": "ipython3",
   "version": "3.11.9"
  }
 },
 "nbformat": 4,
 "nbformat_minor": 2
}
